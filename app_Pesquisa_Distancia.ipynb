{
  "nbformat": 4,
  "nbformat_minor": 0,
  "metadata": {
    "colab": {
      "name": "app_Pesquisa_Distancia",
      "provenance": [],
      "collapsed_sections": [],
      "mount_file_id": "1Vsg8MXKYWe8Ni_5wg4ifwBpwfklhejaZ",
      "authorship_tag": "ABX9TyOGf7bUbiCGlkuSRScOlggm",
      "include_colab_link": true
    },
    "kernelspec": {
      "name": "python3",
      "display_name": "Python 3"
    },
    "language_info": {
      "name": "python"
    }
  },
  "cells": [
    {
      "cell_type": "markdown",
      "metadata": {
        "id": "view-in-github",
        "colab_type": "text"
      },
      "source": [
        "<a href=\"https://colab.research.google.com/github/cashprograming/app_Pesquisa_Distancia/blob/main/app_Pesquisa_Distancia.ipynb\" target=\"_parent\"><img src=\"https://colab.research.google.com/assets/colab-badge.svg\" alt=\"Open In Colab\"/></a>"
      ]
    },
    {
      "cell_type": "code",
      "execution_count": 4,
      "metadata": {
        "id": "kPBoD_chATMy",
        "colab": {
          "base_uri": "https://localhost:8080/"
        },
        "outputId": "ae81de40-23e3-45e0-d6e4-37b781cea936"
      },
      "outputs": [
        {
          "output_type": "stream",
          "name": "stdout",
          "text": [
            "Erro no endereço: Caminho A - Embura - São Paulo - SP, 04893-052 Por favor verificar !\n"
          ]
        }
      ],
      "source": [
        "import requests\n",
        "import pandas as pd\n",
        "import xmltodict\n",
        "key = 'AmbGeQMDyP37V-zeOrxW7mbadUFq8avM_X-JK8O_ajagr6eez_rcFA9Ne_JOzkpC'\n",
        "df = pd.read_excel('/content/drive/MyDrive/Enderecos.xlsx')\n",
        "lista = []\n",
        "origem = 'Rua Silas Lino Ramos - Parque Santa Tereza - Carapicuíba - SP, 06340-290'\n",
        "for x in range(0,df.shape[0]):\n",
        "  linha = (df.loc[x])\n",
        "  destino = str(linha.Logadouro+ \" - \"+ linha.Bairro +\" - \" + linha.Cidade+ \", \" +  linha.Cep)\n",
        "  url = 'http://dev.virtualearth.net/REST/V1/Routes/Driving?o=xml&wp.0='+ origem +'&wp.1='+ destino +'&avoid=minimizeTolls&key='+ key \n",
        "  retorno = requests.get(url)\n",
        "  if retorno.ok:\n",
        "    response = retorno.text\n",
        "    response = xmltodict.parse(response)\n",
        "    distancia = response['Response']['ResourceSets']['ResourceSet']['Resources']['Route']['TravelDistance']\n",
        "    try:\n",
        "      validacao_cep = response['Response']['ResourceSets']['ResourceSet']['Resources']['Route']['RouteLeg']['EndLocation']['Address']['PostalCode']\n",
        "      if (validacao_cep[:2]) == (validacao_cep[:2]):\n",
        "        lista.append(distancia)\n",
        "      else:\n",
        "        print(f'Erro no endereço: {destino} Por favor verificar CEP !')\n",
        "        lista.append('ERRO')\n",
        "        continue\n",
        "    except:\n",
        "      lista.append('ERRO')\n",
        "      continue  \n",
        "    \n",
        "  else:\n",
        "    print(f'Erro no endereço: {destino} Por favor verificar !')\n",
        "    lista.append('ERRO')\n",
        "    continue\n",
        "\n",
        "df['Distancia'] = lista\n",
        "data = df.sort_values('Distancia', ascending=False, ignore_index=True)\n",
        "data.to_excel('Enderecos_Distancia.xlsx',sheet_name='Sheet1')\n",
        "\n",
        "  "
      ]
    },
    {
      "cell_type": "code",
      "source": [
        "pip install xmltodict"
      ],
      "metadata": {
        "colab": {
          "base_uri": "https://localhost:8080/"
        },
        "id": "Vh0oVyTre0X5",
        "outputId": "bfbf235b-0dbc-44f5-ea17-2f54439b2606"
      },
      "execution_count": 2,
      "outputs": [
        {
          "output_type": "stream",
          "name": "stdout",
          "text": [
            "Collecting xmltodict\n",
            "  Downloading xmltodict-0.12.0-py2.py3-none-any.whl (9.2 kB)\n",
            "Installing collected packages: xmltodict\n",
            "Successfully installed xmltodict-0.12.0\n"
          ]
        }
      ]
    },
    {
      "cell_type": "code",
      "source": [
        ""
      ],
      "metadata": {
        "id": "EORNK05qAVAs"
      },
      "execution_count": null,
      "outputs": []
    }
  ]
}